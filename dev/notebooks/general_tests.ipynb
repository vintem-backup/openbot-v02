{
 "cells": [
  {
   "cell_type": "markdown",
   "metadata": {},
   "source": [
    "# Constructo de Testes\n",
    "\n",
    "#### Este ambiente visa possibilitar os testes, tanto de módulos e funções, como de \"programas principais\" que compõe o cluster do OpenBot. Para tanto, o fluxo de atividades básicas é:\n"
   ]
  },
  {
   "cell_type": "code",
   "execution_count": null,
   "metadata": {},
   "outputs": [],
   "source": []
  },
  {
   "cell_type": "code",
   "execution_count": 1,
   "metadata": {},
   "outputs": [],
   "source": [
    "#!/usr/bin/env python\n",
    "# coding: utf-8\n",
    "\n",
    "#Importando bibliotecas do sistema\n",
    "import sys\n",
    "import os\n",
    "\n",
    "project_home = os.getcwd().split(sep=\"docker-cluster\")[0]+'docker-cluster/'\n",
    "sys.path.append(project_home)\n",
    "\n",
    "import lib"
   ]
  },
  {
   "cell_type": "code",
   "execution_count": 2,
   "metadata": {},
   "outputs": [],
   "source": [
    "#Exportando variáveis de ambiente\n",
    "envfile = project_home+'dev.env'\n",
    "\n",
    "lines = open(envfile).readlines()\n",
    "for i in range(0,len(lines)):\n",
    "    if (lines[i][0] == '#'):\n",
    "        pass\n",
    "    else:\n",
    "        if ('=' in lines[i]):\n",
    "            key=lines[i].split('=')[0]\n",
    "            value=lines[i].split('=')[1].split()[0]\n",
    "            os.environ[key] = value\n",
    "            #Uncomment print for verbose\n",
    "            #print (f'Exported: {key} = {value}\\n')"
   ]
  },
  {
   "cell_type": "code",
   "execution_count": null,
   "metadata": {},
   "outputs": [],
   "source": [
    "#Test the lib modules\n",
    "\n",
    "#from lib import <module_name>. Exemple:\n",
    "\n",
    "from lib import notice\n",
    "\n",
    "test = notice.Telegrambot('Some msg').trade()\n",
    "\n",
    "notice.Telegrambot\n",
    "\n",
    "\n",
    "print(test)"
   ]
  },
  {
   "cell_type": "code",
   "execution_count": null,
   "metadata": {},
   "outputs": [],
   "source": []
  },
  {
   "cell_type": "code",
   "execution_count": null,
   "metadata": {},
   "outputs": [],
   "source": [
    "\n",
    "start = root+'worker/start.py'\n",
    "get_data = root+'worker/get_data.py'\n",
    "main=root+'worker/strategies/alpha/main.py'\n",
    "\n",
    "#print(file)\n",
    "#print (target)\n",
    "\n",
    "export_env_var(envfile)"
   ]
  },
  {
   "cell_type": "code",
   "execution_count": null,
   "metadata": {},
   "outputs": [],
   "source": []
  },
  {
   "cell_type": "code",
   "execution_count": null,
   "metadata": {},
   "outputs": [],
   "source": []
  },
  {
   "cell_type": "code",
   "execution_count": null,
   "metadata": {},
   "outputs": [],
   "source": []
  },
  {
   "cell_type": "code",
   "execution_count": 3,
   "metadata": {},
   "outputs": [
    {
     "ename": "ModuleNotFoundError",
     "evalue": "No module named 'dateparser'",
     "output_type": "error",
     "traceback": [
      "\u001b[0;31m---------------------------------------------------------------------------\u001b[0m",
      "\u001b[0;31mModuleNotFoundError\u001b[0m                       Traceback (most recent call last)",
      "\u001b[0;32m<ipython-input-3-6f1a8a375095>\u001b[0m in \u001b[0;36m<module>\u001b[0;34m\u001b[0m\n\u001b[1;32m      2\u001b[0m \u001b[0;32mimport\u001b[0m \u001b[0mtime\u001b[0m\u001b[0;34m\u001b[0m\u001b[0;34m\u001b[0m\u001b[0m\n\u001b[1;32m      3\u001b[0m \u001b[0;32mfrom\u001b[0m \u001b[0mlib\u001b[0m \u001b[0;32mimport\u001b[0m \u001b[0mnotice\u001b[0m\u001b[0;34m\u001b[0m\u001b[0;34m\u001b[0m\u001b[0m\n\u001b[0;32m----> 4\u001b[0;31m \u001b[0;32mfrom\u001b[0m \u001b[0mlib\u001b[0m \u001b[0;32mimport\u001b[0m \u001b[0mbinance_data\u001b[0m\u001b[0;34m\u001b[0m\u001b[0;34m\u001b[0m\u001b[0m\n\u001b[0m\u001b[1;32m      5\u001b[0m \u001b[0;32mfrom\u001b[0m \u001b[0melasticsearch\u001b[0m \u001b[0;32mimport\u001b[0m \u001b[0mElasticsearch\u001b[0m\u001b[0;34m\u001b[0m\u001b[0;34m\u001b[0m\u001b[0m\n\u001b[1;32m      6\u001b[0m \u001b[0;34m\u001b[0m\u001b[0m\n",
      "\u001b[0;32m~/00-projetos/OpenBot/docker-cluster/lib/binance_data.py\u001b[0m in \u001b[0;36m<module>\u001b[0;34m\u001b[0m\n\u001b[1;32m      1\u001b[0m \u001b[0;31m# coding: utf-8\u001b[0m\u001b[0;34m\u001b[0m\u001b[0;34m\u001b[0m\u001b[0;34m\u001b[0m\u001b[0m\n\u001b[1;32m      2\u001b[0m \u001b[0;34m\u001b[0m\u001b[0m\n\u001b[0;32m----> 3\u001b[0;31m \u001b[0;32mimport\u001b[0m \u001b[0mdateparser\u001b[0m\u001b[0;34m\u001b[0m\u001b[0;34m\u001b[0m\u001b[0m\n\u001b[0m\u001b[1;32m      4\u001b[0m \u001b[0;32mimport\u001b[0m \u001b[0mpytz\u001b[0m\u001b[0;34m\u001b[0m\u001b[0;34m\u001b[0m\u001b[0m\n\u001b[1;32m      5\u001b[0m \u001b[0;32mfrom\u001b[0m \u001b[0mdatetime\u001b[0m \u001b[0;32mimport\u001b[0m \u001b[0mdatetime\u001b[0m\u001b[0;34m\u001b[0m\u001b[0;34m\u001b[0m\u001b[0m\n",
      "\u001b[0;31mModuleNotFoundError\u001b[0m: No module named 'dateparser'"
     ]
    }
   ],
   "source": [
    "#Specific modules\n",
    "import time\n",
    "from lib import notice\n",
    "from lib import binance_data\n",
    "from elasticsearch import Elasticsearch\n",
    "\n",
    "msg = str((open(os.environ[\"stock_exchange\"]+'.txt',\"r\")).read())\n",
    "\n",
    "notice.Telegrambot('Start get_data-test | from '+os.environ[\"environment\"]).monitoring()\n",
    "\n",
    "host=os.environ['database_host']\n",
    "indexName = 'marketdata-' + os.environ['market'] +'-1m-'+os.environ['stock_exchange']\n",
    "es = Elasticsearch(hosts=[host])\n",
    "\n",
    "# waiting for DB for being ready\n",
    "#time.sleep(100)\n",
    "\n",
    "while True:\n",
    "    try:\n",
    "        es.indices.get_alias(\"*\")\n",
    "        #notice.Telegrambot('DB is ready!').monitoring()\n",
    "        break\n",
    "    except:\n",
    "        #notice.Telegrambot('Waiting DB...').monitoring()\n",
    "        time.sleep(10)\n",
    "\n",
    "try:\n",
    "    es.indices.get_alias(\"*\")[indexName]\n",
    "    try:\n",
    "        binance_data.live_update_marketdata(host,indexName)\n",
    "    except:\n",
    "        msg = 'Binance connection failure! Check it out. (1)'\n",
    "        notice.Telegrambot(msg).warning()   \n",
    "except:\n",
    "    try:\n",
    "        binance_data.create_marketdata(host,os.environ['market'].upper(),'1m','1 day ago UTC') \n",
    "        # Change '1 day ago UTC' to years\n",
    "        time.sleep(300)\n",
    "        binance_data.live_update_marketdata(host,indexName)\n",
    "\n",
    "    except:\n",
    "        msg = 'Binance connection failure! Check it out. (2)'\n",
    "        notice.Telegrambot(msg).warning()\n",
    "\n",
    "i=0\n",
    "while True:\n",
    "    \n",
    "    notice.Telegrambot(msg+' | cycle: '+str(i)+' | from '+os.environ[\"environment\"]).monitoring()\n",
    "    i+=1\n",
    "    time.sleep(30)"
   ]
  },
  {
   "cell_type": "code",
   "execution_count": 4,
   "metadata": {},
   "outputs": [
    {
     "name": "stdout",
     "output_type": "stream",
     "text": [
      "Collecting dateparser==0.7.1\n",
      "  Using cached https://files.pythonhosted.org/packages/a0/30/5cb8bb214c0b111fb59137c2e19c636a136209dbe45e1c3e9d63f7a76c1a/dateparser-0.7.1-py2.py3-none-any.whl\n",
      "Requirement already satisfied: python-dateutil in /home/marcus/anaconda3/lib/python3.7/site-packages (from dateparser==0.7.1) (2.7.5)\n",
      "Collecting regex (from dateparser==0.7.1)\n",
      "  Using cached https://files.pythonhosted.org/packages/a3/d5/7dca7f9a629f8cfb06232bc23b4ce1bb5daa2115cbeee7f6868c57f2beb3/regex-2019.03.12.tar.gz\n",
      "Requirement already satisfied: tzlocal in /home/marcus/anaconda3/lib/python3.7/site-packages (from dateparser==0.7.1) (1.5.1)\n",
      "Requirement already satisfied: pytz in /home/marcus/anaconda3/lib/python3.7/site-packages (from dateparser==0.7.1) (2018.9)\n",
      "Requirement already satisfied: six>=1.5 in /home/marcus/anaconda3/lib/python3.7/site-packages (from python-dateutil->dateparser==0.7.1) (1.12.0)\n",
      "Building wheels for collected packages: regex\n",
      "  Running setup.py bdist_wheel for regex ... \u001b[?25lerror\n",
      "  Complete output from command /home/marcus/anaconda3/bin/python -u -c \"import setuptools, tokenize;__file__='/tmp/pip-install-wo5x7qg8/regex/setup.py';f=getattr(tokenize, 'open', open)(__file__);code=f.read().replace('\\r\\n', '\\n');f.close();exec(compile(code, __file__, 'exec'))\" bdist_wheel -d /tmp/pip-wheel-8q12vtah --python-tag cp37:\n",
      "  BASE_DIR is /tmp/pip-install-wo5x7qg8/regex\n",
      "  /home/marcus/anaconda3/lib/python3.7/site-packages/setuptools/dist.py:470: UserWarning: Normalizing '2019.03.12' to '2019.3.12'\n",
      "    normalized_version,\n",
      "  running bdist_wheel\n",
      "  running build\n",
      "  running build_py\n",
      "  creating build\n",
      "  creating build/lib.linux-x86_64-3.7\n",
      "  creating build/lib.linux-x86_64-3.7/regex\n",
      "  copying regex_3/regex/__init__.py -> build/lib.linux-x86_64-3.7/regex\n",
      "  copying regex_3/regex/regex.py -> build/lib.linux-x86_64-3.7/regex\n",
      "  copying regex_3/regex/_regex_core.py -> build/lib.linux-x86_64-3.7/regex\n",
      "  creating build/lib.linux-x86_64-3.7/regex/test\n",
      "  copying regex_3/regex/test/__init__.py -> build/lib.linux-x86_64-3.7/regex/test\n",
      "  copying regex_3/regex/test/test_regex.py -> build/lib.linux-x86_64-3.7/regex/test\n",
      "  running build_ext\n",
      "  building 'regex._regex' extension\n",
      "  creating build/temp.linux-x86_64-3.7\n",
      "  creating build/temp.linux-x86_64-3.7/regex_3\n",
      "  gcc -pthread -B /home/marcus/anaconda3/compiler_compat -Wl,--sysroot=/ -Wsign-compare -DNDEBUG -g -fwrapv -O3 -Wall -Wstrict-prototypes -fPIC -I/home/marcus/anaconda3/include/python3.7m -c regex_3/_regex.c -o build/temp.linux-x86_64-3.7/regex_3/_regex.o\n",
      "  regex_3/_regex.c: In function ‘state_fini’:\n",
      "  regex_3/_regex.c:18976:13: warning: this ‘if’ clause does not guard... [-Wmisleading-indentation]\n",
      "               if (new_storage)\n",
      "               ^~\n",
      "  regex_3/_regex.c:18978:17: note: ...this statement, but the latter is misleadingly indented as if it were guarded by the ‘if’\n",
      "                   pattern->stack_capacity = 0x10000;\n",
      "                   ^~~~~~~\n",
      "  regex_3/_regex.c: In function ‘fuzzy_match_string_fld’:\n",
      "  regex_3/_regex.c:11102:10: warning: ‘data.new_text_pos’ may be used uninitialized in this function [-Wmaybe-uninitialized]\n",
      "       if (!record_fuzzy(state, data.fuzzy_type, data.new_text_pos - data.step))\n",
      "            ^~~~~~~~~~~~~~~~~~~~~~~~~~~~~~~~~~~~~~~~~~~~~~~~~~~~~~~~~~~~~~~~~~~\n",
      "  regex_3/_regex.c: In function ‘fuzzy_match_group_fld’:\n",
      "  regex_3/_regex.c:11327:10: warning: ‘data.new_text_pos’ may be used uninitialized in this function [-Wmaybe-uninitialized]\n",
      "       if (!record_fuzzy(state, data.fuzzy_type, data.new_text_pos - data.step))\n",
      "            ^~~~~~~~~~~~~~~~~~~~~~~~~~~~~~~~~~~~~~~~~~~~~~~~~~~~~~~~~~~~~~~~~~~\n",
      "  regex_3/_regex.c: In function ‘basic_match’:\n",
      "  regex_3/_regex.c:11432:10: warning: ‘data.new_text_pos’ may be used uninitialized in this function [-Wmaybe-uninitialized]\n",
      "       if (!record_fuzzy(state, data.fuzzy_type, data.new_text_pos - data.step))\n",
      "            ^~~~~~~~~~~~~~~~~~~~~~~~~~~~~~~~~~~~~~~~~~~~~~~~~~~~~~~~~~~~~~~~~~~\n",
      "  regex_3/_regex.c:11346:18: note: ‘data.new_text_pos’ was declared here\n",
      "       RE_FuzzyData data;\n",
      "                    ^~~~\n",
      "  regex_3/_regex.c:11201:10: warning: ‘data.new_text_pos’ may be used uninitialized in this function [-Wmaybe-uninitialized]\n",
      "       if (!record_fuzzy(state, data.fuzzy_type, data.new_text_pos - data.step))\n",
      "            ^~~~~~~~~~~~~~~~~~~~~~~~~~~~~~~~~~~~~~~~~~~~~~~~~~~~~~~~~~~~~~~~~~~\n",
      "  regex_3/_regex.c:11120:18: note: ‘data.new_text_pos’ was declared here\n",
      "       RE_FuzzyData data;\n",
      "                    ^~~~\n",
      "  gcc -pthread -B /home/marcus/anaconda3/compiler_compat -Wl,--sysroot=/ -Wsign-compare -DNDEBUG -g -fwrapv -O3 -Wall -Wstrict-prototypes -fPIC -I/home/marcus/anaconda3/include/python3.7m -c regex_3/_regex_unicode.c -o build/temp.linux-x86_64-3.7/regex_3/_regex_unicode.o\n",
      "  gcc -pthread -shared -B /home/marcus/anaconda3/compiler_compat -L/home/marcus/anaconda3/lib -Wl,-rpath=/home/marcus/anaconda3/lib -Wl,--no-as-needed -Wl,--sysroot=/ build/temp.linux-x86_64-3.7/regex_3/_regex.o build/temp.linux-x86_64-3.7/regex_3/_regex_unicode.o -o build/lib.linux-x86_64-3.7/regex/_regex.cpython-37m-x86_64-linux-gnu.so\n",
      "  /home/marcus/anaconda3/compiler_compat/ld: build/temp.linux-x86_64-3.7/regex_3/_regex.o: unable to initialize decompress status for section .debug_info\n",
      "  /home/marcus/anaconda3/compiler_compat/ld: build/temp.linux-x86_64-3.7/regex_3/_regex.o: unable to initialize decompress status for section .debug_info\n",
      "  /home/marcus/anaconda3/compiler_compat/ld: build/temp.linux-x86_64-3.7/regex_3/_regex.o: unable to initialize decompress status for section .debug_info\n",
      "  /home/marcus/anaconda3/compiler_compat/ld: build/temp.linux-x86_64-3.7/regex_3/_regex.o: unable to initialize decompress status for section .debug_info\n",
      "  build/temp.linux-x86_64-3.7/regex_3/_regex.o: file not recognized: file format not recognized\n",
      "  collect2: error: ld returned 1 exit status\n",
      "  error: command 'gcc' failed with exit status 1\n",
      "  \n",
      "  ----------------------------------------\n",
      "\u001b[31m  Failed building wheel for regex\u001b[0m\n",
      "\u001b[?25h  Running setup.py clean for regex\n",
      "Failed to build regex\n",
      "Installing collected packages: regex, dateparser\n",
      "  Running setup.py install for regex ... \u001b[?25lerror\n",
      "    Complete output from command /home/marcus/anaconda3/bin/python -u -c \"import setuptools, tokenize;__file__='/tmp/pip-install-wo5x7qg8/regex/setup.py';f=getattr(tokenize, 'open', open)(__file__);code=f.read().replace('\\r\\n', '\\n');f.close();exec(compile(code, __file__, 'exec'))\" install --record /tmp/pip-record-ehiuc0j_/install-record.txt --single-version-externally-managed --compile:\n",
      "    BASE_DIR is /tmp/pip-install-wo5x7qg8/regex\n",
      "    /home/marcus/anaconda3/lib/python3.7/site-packages/setuptools/dist.py:470: UserWarning: Normalizing '2019.03.12' to '2019.3.12'\n",
      "      normalized_version,\n",
      "    running install\n",
      "    running build\n",
      "    running build_py\n",
      "    creating build\n",
      "    creating build/lib.linux-x86_64-3.7\n",
      "    creating build/lib.linux-x86_64-3.7/regex\n",
      "    copying regex_3/regex/__init__.py -> build/lib.linux-x86_64-3.7/regex\n",
      "    copying regex_3/regex/regex.py -> build/lib.linux-x86_64-3.7/regex\n",
      "    copying regex_3/regex/_regex_core.py -> build/lib.linux-x86_64-3.7/regex\n",
      "    creating build/lib.linux-x86_64-3.7/regex/test\n",
      "    copying regex_3/regex/test/__init__.py -> build/lib.linux-x86_64-3.7/regex/test\n",
      "    copying regex_3/regex/test/test_regex.py -> build/lib.linux-x86_64-3.7/regex/test\n",
      "    running build_ext\n",
      "    building 'regex._regex' extension\n",
      "    creating build/temp.linux-x86_64-3.7\n",
      "    creating build/temp.linux-x86_64-3.7/regex_3\n",
      "    gcc -pthread -B /home/marcus/anaconda3/compiler_compat -Wl,--sysroot=/ -Wsign-compare -DNDEBUG -g -fwrapv -O3 -Wall -Wstrict-prototypes -fPIC -I/home/marcus/anaconda3/include/python3.7m -c regex_3/_regex.c -o build/temp.linux-x86_64-3.7/regex_3/_regex.o\n",
      "    regex_3/_regex.c: In function ‘state_fini’:\n",
      "    regex_3/_regex.c:18976:13: warning: this ‘if’ clause does not guard... [-Wmisleading-indentation]\n",
      "                 if (new_storage)\n",
      "                 ^~\n",
      "    regex_3/_regex.c:18978:17: note: ...this statement, but the latter is misleadingly indented as if it were guarded by the ‘if’\n",
      "                     pattern->stack_capacity = 0x10000;\n",
      "                     ^~~~~~~\n",
      "    regex_3/_regex.c: In function ‘fuzzy_match_string_fld’:\n",
      "    regex_3/_regex.c:11102:10: warning: ‘data.new_text_pos’ may be used uninitialized in this function [-Wmaybe-uninitialized]\n",
      "         if (!record_fuzzy(state, data.fuzzy_type, data.new_text_pos - data.step))\n",
      "              ^~~~~~~~~~~~~~~~~~~~~~~~~~~~~~~~~~~~~~~~~~~~~~~~~~~~~~~~~~~~~~~~~~~\n",
      "    regex_3/_regex.c: In function ‘fuzzy_match_group_fld’:\n",
      "    regex_3/_regex.c:11327:10: warning: ‘data.new_text_pos’ may be used uninitialized in this function [-Wmaybe-uninitialized]\n",
      "         if (!record_fuzzy(state, data.fuzzy_type, data.new_text_pos - data.step))\n",
      "              ^~~~~~~~~~~~~~~~~~~~~~~~~~~~~~~~~~~~~~~~~~~~~~~~~~~~~~~~~~~~~~~~~~~\n",
      "    regex_3/_regex.c: In function ‘basic_match’:\n",
      "    regex_3/_regex.c:11432:10: warning: ‘data.new_text_pos’ may be used uninitialized in this function [-Wmaybe-uninitialized]\n",
      "         if (!record_fuzzy(state, data.fuzzy_type, data.new_text_pos - data.step))\n",
      "              ^~~~~~~~~~~~~~~~~~~~~~~~~~~~~~~~~~~~~~~~~~~~~~~~~~~~~~~~~~~~~~~~~~~\n",
      "    regex_3/_regex.c:11346:18: note: ‘data.new_text_pos’ was declared here\n",
      "         RE_FuzzyData data;\n",
      "                      ^~~~\n",
      "    regex_3/_regex.c:11201:10: warning: ‘data.new_text_pos’ may be used uninitialized in this function [-Wmaybe-uninitialized]\n",
      "         if (!record_fuzzy(state, data.fuzzy_type, data.new_text_pos - data.step))\n",
      "              ^~~~~~~~~~~~~~~~~~~~~~~~~~~~~~~~~~~~~~~~~~~~~~~~~~~~~~~~~~~~~~~~~~~\n",
      "    regex_3/_regex.c:11120:18: note: ‘data.new_text_pos’ was declared here\n",
      "         RE_FuzzyData data;\n",
      "                      ^~~~\n",
      "    gcc -pthread -B /home/marcus/anaconda3/compiler_compat -Wl,--sysroot=/ -Wsign-compare -DNDEBUG -g -fwrapv -O3 -Wall -Wstrict-prototypes -fPIC -I/home/marcus/anaconda3/include/python3.7m -c regex_3/_regex_unicode.c -o build/temp.linux-x86_64-3.7/regex_3/_regex_unicode.o\n",
      "    gcc -pthread -shared -B /home/marcus/anaconda3/compiler_compat -L/home/marcus/anaconda3/lib -Wl,-rpath=/home/marcus/anaconda3/lib -Wl,--no-as-needed -Wl,--sysroot=/ build/temp.linux-x86_64-3.7/regex_3/_regex.o build/temp.linux-x86_64-3.7/regex_3/_regex_unicode.o -o build/lib.linux-x86_64-3.7/regex/_regex.cpython-37m-x86_64-linux-gnu.so\n",
      "    /home/marcus/anaconda3/compiler_compat/ld: build/temp.linux-x86_64-3.7/regex_3/_regex.o: unable to initialize decompress status for section .debug_info\n",
      "    /home/marcus/anaconda3/compiler_compat/ld: build/temp.linux-x86_64-3.7/regex_3/_regex.o: unable to initialize decompress status for section .debug_info\n",
      "    /home/marcus/anaconda3/compiler_compat/ld: build/temp.linux-x86_64-3.7/regex_3/_regex.o: unable to initialize decompress status for section .debug_info\n",
      "    /home/marcus/anaconda3/compiler_compat/ld: build/temp.linux-x86_64-3.7/regex_3/_regex.o: unable to initialize decompress status for section .debug_info\n",
      "    build/temp.linux-x86_64-3.7/regex_3/_regex.o: file not recognized: file format not recognized\n",
      "    collect2: error: ld returned 1 exit status\n",
      "    error: command 'gcc' failed with exit status 1\n",
      "    \n",
      "    ----------------------------------------\n",
      "\u001b[31mCommand \"/home/marcus/anaconda3/bin/python -u -c \"import setuptools, tokenize;__file__='/tmp/pip-install-wo5x7qg8/regex/setup.py';f=getattr(tokenize, 'open', open)(__file__);code=f.read().replace('\\r\\n', '\\n');f.close();exec(compile(code, __file__, 'exec'))\" install --record /tmp/pip-record-ehiuc0j_/install-record.txt --single-version-externally-managed --compile\" failed with error code 1 in /tmp/pip-install-wo5x7qg8/regex/\u001b[0m\n"
     ]
    },
    {
     "name": "stdout",
     "output_type": "stream",
     "text": [
      "\u001b[?25h"
     ]
    }
   ],
   "source": [
    "!pip install dateparser==0.7.1"
   ]
  },
  {
   "cell_type": "code",
   "execution_count": null,
   "metadata": {},
   "outputs": [],
   "source": []
  },
  {
   "cell_type": "code",
   "execution_count": null,
   "metadata": {},
   "outputs": [],
   "source": []
  },
  {
   "cell_type": "code",
   "execution_count": null,
   "metadata": {},
   "outputs": [],
   "source": []
  },
  {
   "cell_type": "code",
   "execution_count": null,
   "metadata": {},
   "outputs": [],
   "source": []
  },
  {
   "cell_type": "code",
   "execution_count": null,
   "metadata": {},
   "outputs": [],
   "source": []
  },
  {
   "cell_type": "code",
   "execution_count": null,
   "metadata": {},
   "outputs": [],
   "source": []
  },
  {
   "cell_type": "code",
   "execution_count": null,
   "metadata": {},
   "outputs": [],
   "source": [
    "#Exporting environment variables\n",
    "\n",
    "def export_env_var(file):\n",
    "\n",
    "    pass"
   ]
  },
  {
   "cell_type": "code",
   "execution_count": null,
   "metadata": {},
   "outputs": [],
   "source": []
  },
  {
   "cell_type": "code",
   "execution_count": null,
   "metadata": {},
   "outputs": [],
   "source": [
    "!python $main"
   ]
  },
  {
   "cell_type": "code",
   "execution_count": null,
   "metadata": {},
   "outputs": [],
   "source": [
    "900/3000"
   ]
  },
  {
   "cell_type": "code",
   "execution_count": null,
   "metadata": {},
   "outputs": [],
   "source": []
  }
 ],
 "metadata": {
  "kernelspec": {
   "display_name": "Python 3",
   "language": "python",
   "name": "python3"
  },
  "language_info": {
   "codemirror_mode": {
    "name": "ipython",
    "version": 3
   },
   "file_extension": ".py",
   "mimetype": "text/x-python",
   "name": "python",
   "nbconvert_exporter": "python",
   "pygments_lexer": "ipython3",
   "version": "3.7.1"
  }
 },
 "nbformat": 4,
 "nbformat_minor": 2
}
