{
 "cells": [
  {
   "cell_type": "markdown",
   "metadata": {},
   "source": [
    "# Back test of Binance trader container\n",
    "\n",
    "## Resumo do algoritmo:\n",
    "\n",
    "### 1 - Entrada\n",
    "\n",
    "    1 - Lê as tabelas de candles (para os pares monitorados) como dataframes, criando um dicionário para os pares:\n",
    "    \n",
    "    {'par':'dataframe'}\n",
    "    \n",
    "### 2 - Ciclos\n",
    "\n",
    "    0 - Adquire os parâmetros, como o número mínimo de amostras para o correto cálculo de todos os indicadores\n",
    "        daquela amostra, naquele instante.\n",
    "        \n",
    "        [Principais parâmetros neste caso]\n",
    "        \n",
    "            - Candle_interval\n",
    "            - Número de amostras para média móvel curta\n",
    "            - Número de amostras para média móvel Longa\n",
    "            - Critérios de stop, etc\n",
    "    \n",
    "    1 - Para cada par no dicionário:\n",
    "    \n",
    "        (completa os dataframes, confome tenham chegados novos dados)\n",
    "        \n",
    "        (AVALIA A PARTIR DE QUAL AMOSTRA TRABALHAR. Para tanto deve buscar a <tabela_monitoramento_bt> no banco de\n",
    "        dados)\n",
    "        \n",
    "        1.0 - Calcula i_min e i_max a partir do Candle_interval, etc\n",
    "        \n",
    "        1.1 - Para i no range de (i_min, i_max)\n",
    "        \n",
    "            (AVALIA CRITÉRIOS DE STOP)\n",
    "        \n",
    "            1.1.1 - Faz o parseamento de dados para a escala do candle_interval trabalhado, criando novo dataframe\n",
    "            \n",
    "            1.1.2 - Entrga este dataframe ao módulo <definicao_posicao>\n",
    "            \n",
    "                *=======================================================================================*\n",
    "                |                                                                                       |\n",
    "                | <definicao_posicao>                                                                   |\n",
    "                | ===================                                                                   |\n",
    "                |                                                                                       |\n",
    "                |    I - Para todos os indicadores utilizados por este módulo:                          |\n",
    "                |                                                                                       |\n",
    "                |       I.1 - Entrega o dataframe ao módulo <indicador>, que retorna uma posição        |\n",
    "                |                                                                                       |\n",
    "                |   II - Avalia as posições dadas pelos indicadores e toma uma decição sobre a posição  |\n",
    "                |                                                                                       |\n",
    "                | Uma posição, para este par, é retornada                                               |\n",
    "                *---------------------------------------------------------------------------------------*\n",
    "\n",
    "       \n",
    "        1.2 - Cria o dicionário {'par':'posição'} dos pares e suas posições, gravando as entradas pertinentes\n",
    "            na tabela <tabela_monitoramento_bt>.\n",
    "        \n",
    "        1.3 - Entrega este dataframe ao módulo <trader_action> que deve avaliar o disparamento ou não de uma ordem\n",
    "        \n",
    "            1.3.1 - <trader_action>\n",
    "            \n",
    "                I - (AVALIA CRITÉRIOS DE STOP)\n",
    "            \n",
    "            \n",
    "            \n",
    "            \n",
    "            \n",
    "            \n",
    "            \n",
    "            \n",
    "            \n",
    "            \n",
    "            "
   ]
  },
  {
   "cell_type": "code",
   "execution_count": 2,
   "metadata": {},
   "outputs": [],
   "source": [
    "import pandas as pd\n",
    "from sqlalchemy import create_engine\n",
    "import os"
   ]
  },
  {
   "cell_type": "code",
   "execution_count": 3,
   "metadata": {},
   "outputs": [],
   "source": [
    "#Credenciais do banco\n",
    "\n",
    "POSTGRES_DB='pg_dev'\n",
    "POSTGRES_PASSWORD='06Fj@%r7KTXm5+eWn2'\n",
    "POSTGRES_USER='openbot'\n",
    "DB_HOST='localhost'\n",
    "DB_PORT='5432'\n",
    "\n",
    "db_url = 'postgresql://' + POSTGRES_USER + ':' + POSTGRES_PASSWORD + '@' + DB_HOST + ':' + DB_PORT + '/' + POSTGRES_DB\n",
    "\n",
    "#print(db_url)\n",
    "\n",
    "engine = create_engine(db_url,echo=False)"
   ]
  },
  {
   "cell_type": "code",
   "execution_count": null,
   "metadata": {},
   "outputs": [],
   "source": [
    "#Ler do banco\n",
    "\n",
    "table_name = 'binance_klines_btcusdt_1m'\n",
    "\n",
    "sql_query = 'SELECT * FROM ' + table_name\n",
    "\n",
    "btcusdt_1m_klines = pd.read_sql(sql_query, engine)"
   ]
  },
  {
   "cell_type": "code",
   "execution_count": null,
   "metadata": {},
   "outputs": [],
   "source": [
    "#Salvar no banco"
   ]
  },
  {
   "cell_type": "code",
   "execution_count": null,
   "metadata": {},
   "outputs": [],
   "source": []
  },
  {
   "cell_type": "code",
   "execution_count": 4,
   "metadata": {},
   "outputs": [],
   "source": [
    "#Modelo de como criar dataframes dinâmicos, um para cada tabela, e colecioná-los em um dicionário\n",
    "\n",
    "#Modelo\n",
    "d={}\n",
    "for x in range(1,10):\n",
    "        d[\"string{0}\".format(x)]=\"Hello\"\n",
    "\n",
    "#Teste\n",
    "table_name = 'binance_pairs'\n",
    "\n",
    "sql_query = 'SELECT * FROM ' + table_name\n",
    "\n",
    "colecao={}\n",
    "for i in range(1,10):\n",
    "    \n",
    "        colecao[\"pares{0}\".format(i)] = pd.read_sql(sql_query, engine)"
   ]
  },
  {
   "cell_type": "code",
   "execution_count": null,
   "metadata": {},
   "outputs": [],
   "source": []
  },
  {
   "cell_type": "code",
   "execution_count": 8,
   "metadata": {},
   "outputs": [
    {
     "data": {
      "text/html": [
       "<div>\n",
       "<style scoped>\n",
       "    .dataframe tbody tr th:only-of-type {\n",
       "        vertical-align: middle;\n",
       "    }\n",
       "\n",
       "    .dataframe tbody tr th {\n",
       "        vertical-align: top;\n",
       "    }\n",
       "\n",
       "    .dataframe thead th {\n",
       "        text-align: right;\n",
       "    }\n",
       "</style>\n",
       "<table border=\"1\" class=\"dataframe\">\n",
       "  <thead>\n",
       "    <tr style=\"text-align: right;\">\n",
       "      <th></th>\n",
       "      <th>name</th>\n",
       "      <th>get_data</th>\n",
       "      <th>status</th>\n",
       "      <th>last_change_by_pid</th>\n",
       "    </tr>\n",
       "  </thead>\n",
       "  <tbody>\n",
       "    <tr>\n",
       "      <th>0</th>\n",
       "      <td>LTCUSDT</td>\n",
       "      <td>ON</td>\n",
       "      <td>full</td>\n",
       "      <td>8282</td>\n",
       "    </tr>\n",
       "    <tr>\n",
       "      <th>1</th>\n",
       "      <td>LINKUSDT</td>\n",
       "      <td>ON</td>\n",
       "      <td>full</td>\n",
       "      <td>8285</td>\n",
       "    </tr>\n",
       "    <tr>\n",
       "      <th>2</th>\n",
       "      <td>BTCUSDT</td>\n",
       "      <td>ON</td>\n",
       "      <td>full</td>\n",
       "      <td>8284</td>\n",
       "    </tr>\n",
       "    <tr>\n",
       "      <th>3</th>\n",
       "      <td>ETHUSDT</td>\n",
       "      <td>ON</td>\n",
       "      <td>full</td>\n",
       "      <td>8283</td>\n",
       "    </tr>\n",
       "    <tr>\n",
       "      <th>4</th>\n",
       "      <td>NEOUSDT</td>\n",
       "      <td>ON</td>\n",
       "      <td>full</td>\n",
       "      <td>8281</td>\n",
       "    </tr>\n",
       "    <tr>\n",
       "      <th>5</th>\n",
       "      <td>XRPUSDT</td>\n",
       "      <td>ON</td>\n",
       "      <td>full</td>\n",
       "      <td>8286</td>\n",
       "    </tr>\n",
       "  </tbody>\n",
       "</table>\n",
       "</div>"
      ],
      "text/plain": [
       "       name get_data status  last_change_by_pid\n",
       "0   LTCUSDT       ON   full                8282\n",
       "1  LINKUSDT       ON   full                8285\n",
       "2   BTCUSDT       ON   full                8284\n",
       "3   ETHUSDT       ON   full                8283\n",
       "4   NEOUSDT       ON   full                8281\n",
       "5   XRPUSDT       ON   full                8286"
      ]
     },
     "execution_count": 8,
     "metadata": {},
     "output_type": "execute_result"
    }
   ],
   "source": [
    "colecao['pares3']"
   ]
  },
  {
   "cell_type": "code",
   "execution_count": null,
   "metadata": {},
   "outputs": [],
   "source": [
    "#Candle_interval = 2h\n",
    "#Preço = (o + h + l + c)/4\n",
    "#Media_longa = 100 amostras\n",
    "#Media_curta = 3 amostras\n",
    "#Ordem a mercado (entra e sai pelo preço do minuto seguinte)\n",
    "\n",
    "'''\n",
    "A cada ciclo (iniciando de uma posição sucifientemente longa para poder calcular o valor do indicador) avalia \n",
    "em que posição deve estar o ativo, colocando um sinal (na tabela - dicionário - de ativos em operação) em caso \n",
    "de a posição precisar ser modificada\n",
    "'''"
   ]
  },
  {
   "cell_type": "code",
   "execution_count": null,
   "metadata": {},
   "outputs": [],
   "source": []
  },
  {
   "cell_type": "code",
   "execution_count": null,
   "metadata": {},
   "outputs": [],
   "source": []
  },
  {
   "cell_type": "code",
   "execution_count": null,
   "metadata": {},
   "outputs": [],
   "source": []
  },
  {
   "cell_type": "code",
   "execution_count": null,
   "metadata": {},
   "outputs": [],
   "source": []
  },
  {
   "cell_type": "code",
   "execution_count": null,
   "metadata": {},
   "outputs": [],
   "source": []
  },
  {
   "cell_type": "code",
   "execution_count": null,
   "metadata": {},
   "outputs": [],
   "source": []
  },
  {
   "cell_type": "code",
   "execution_count": null,
   "metadata": {},
   "outputs": [],
   "source": []
  }
 ],
 "metadata": {
  "kernelspec": {
   "display_name": "venv",
   "language": "python",
   "name": "venv"
  },
  "language_info": {
   "codemirror_mode": {
    "name": "ipython",
    "version": 3
   },
   "file_extension": ".py",
   "mimetype": "text/x-python",
   "name": "python",
   "nbconvert_exporter": "python",
   "pygments_lexer": "ipython3",
   "version": "3.7.3"
  }
 },
 "nbformat": 4,
 "nbformat_minor": 2
}
