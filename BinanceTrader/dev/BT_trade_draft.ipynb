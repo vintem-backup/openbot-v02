{
 "cells": [
  {
   "cell_type": "code",
   "execution_count": 1,
   "metadata": {},
   "outputs": [],
   "source": [
    "import pandas as pd\n",
    "import sqlalchemy\n",
    "from sqlalchemy import create_engine\n",
    "import os\n",
    "import sys\n",
    "import json\n",
    "from psycopg2.extras import Json\n",
    "#import psycopg2\n",
    "#import psycopg2.extras\n",
    "\n",
    "#Importação das funçoes da pasta \"modules\" (aqui, provisioriamente copiada para a pasta do BinanceTrader)\n",
    "from modules import db_functions as dbf"
   ]
  },
  {
   "cell_type": "code",
   "execution_count": 2,
   "metadata": {},
   "outputs": [],
   "source": [
    "#Credenciais do banco\n",
    "\n",
    "POSTGRES_DB='pg_dev'\n",
    "POSTGRES_PASSWORD='06Fj@%r7KTXm5+eWn2'\n",
    "POSTGRES_USER='openbot'\n",
    "DB_HOST='localhost'\n",
    "DB_PORT='5432'\n",
    "\n",
    "db_url = 'postgresql://' + POSTGRES_USER + ':' + POSTGRES_PASSWORD + '@' + DB_HOST + ':' + DB_PORT + '/' + POSTGRES_DB\n",
    "\n",
    "engine = create_engine(db_url,echo=False)"
   ]
  },
  {
   "cell_type": "code",
   "execution_count": null,
   "metadata": {},
   "outputs": [],
   "source": [
    "# Usar para criar a tabela da estratégia com seus parâmetros, a patir do arquivo json, caso não exista\n",
    "\n",
    "\n",
    "#Importar json config\n",
    "\n",
    "config_path = 'data_structure/alpha_setup_1.json'\n",
    "\n",
    "data_in = open(config_path)\n",
    "\n",
    "config = json.loads(data_in.read()) #Dicionário com os parâmetros de configuração\n",
    "\n",
    "data_in.close()\n",
    "\n",
    "\n",
    "#Tabela da estratégia (Provisioriamente. O django é quem deve gerenciá-la)\n",
    "\n",
    "\n",
    "#Colunas\n",
    "keys = {'name': 'text', 'work_pairs': 'text []', 'candle_interval': 'text', 'price_source': 'text', 'indicators_set': 'json', 'stop_criteria': 'json', 'update_target_if': 'json'}\n",
    "\n",
    "#Dados para salvar\n",
    "dic_in = dict(config['setup_1'])\n",
    "\n",
    "data_to_save = []\n",
    "\n",
    "data_to_save.append('setup_1')\n",
    "\n",
    "data_to_save.append(dic_in['work_pairs'])\n",
    "\n",
    "data_to_save.append(str(dic_in['candle_interval']))\n",
    "\n",
    "data_to_save.append(str(dic_in['price_source']))\n",
    "\n",
    "data_to_save.append(json.dumps(dic_in['indicators_set']))\n",
    "\n",
    "data_to_save.append(json.dumps(dic_in['stop_criteria']))\n",
    "\n",
    "data_to_save.append(json.dumps(dic_in['update_target_if']))\n",
    "\n",
    "\n",
    "#Criando a tabela\n",
    "table_name = 'strategy_alpha'\n",
    "\n",
    "create_table_job_satus = dbf.create_table(table_name,keys,pk='name')\n",
    "\n",
    "data_to_save = [data_to_save]\n",
    "\n",
    "\n",
    "#Salvar estratégia na tabela\n",
    "save_in_table_job_status = dbf.save_in_table(table_name, keys, data_to_save)"
   ]
  },
  {
   "cell_type": "markdown",
   "metadata": {},
   "source": [
    "## Funções auxiliares"
   ]
  },
  {
   "cell_type": "markdown",
   "metadata": {},
   "source": [
    "### Parseamento de candles"
   ]
  },
  {
   "cell_type": "code",
   "execution_count": null,
   "metadata": {},
   "outputs": [],
   "source": [
    "pair = 'BTCUSDT'\n",
    "\n",
    "data_in = data_dict[pair]"
   ]
  },
  {
   "cell_type": "code",
   "execution_count": null,
   "metadata": {},
   "outputs": [],
   "source": [
    "24*60*7*30"
   ]
  },
  {
   "cell_type": "code",
   "execution_count": null,
   "metadata": {},
   "outputs": [],
   "source": [
    "len(data_in)"
   ]
  },
  {
   "cell_type": "code",
   "execution_count": null,
   "metadata": {},
   "outputs": [],
   "source": [
    "1032124/120"
   ]
  },
  {
   "cell_type": "code",
   "execution_count": null,
   "metadata": {},
   "outputs": [],
   "source": [
    "n_sample_dic = {'m': 1, 'h': 60, 'd': 1440, 'w': 10080, 'M': 302400}"
   ]
  },
  {
   "cell_type": "code",
   "execution_count": null,
   "metadata": {},
   "outputs": [],
   "source": [
    "(n_sample_dic['h'])"
   ]
  },
  {
   "cell_type": "code",
   "execution_count": null,
   "metadata": {},
   "outputs": [],
   "source": [
    "#Testando a transformação do candle de 1m em 2h\n",
    "\n",
    "size = 2; scale_factor = n_sample_dic['h']\n",
    "\n",
    "step = scale_factor*size\n",
    "\n",
    "start = 0; end = step -1\n",
    "\n",
    "ciclo = 0\n",
    "while (end < len(data_in)):\n",
    "    \n",
    "    partial_data_frame = data_in.loc[start:end]\n",
    "    \n",
    "    new_open_time = partial_data_frame['open_time'][start]\n",
    "    \n",
    "    print ('ciclo = ',ciclo,' new_open_time = ',new_open_time)\n",
    "    \n",
    "    ciclo = ciclo + 1\n",
    "    start = start + step\n",
    "    end = end + step\n",
    "\n",
    "\n",
    "#data_in['open']"
   ]
  },
  {
   "cell_type": "code",
   "execution_count": null,
   "metadata": {},
   "outputs": [],
   "source": [
    "step, start, end"
   ]
  },
  {
   "cell_type": "code",
   "execution_count": null,
   "metadata": {},
   "outputs": [],
   "source": [
    "245*120"
   ]
  },
  {
   "cell_type": "code",
   "execution_count": null,
   "metadata": {},
   "outputs": [],
   "source": [
    "#data_in = pandas data series\n",
    "#scale = m, h, d, w, M\n",
    "#size = 1, 2, 3, 5 (\"casar com a escala...\")\n",
    "\n",
    "def candle_parse(data_in, scale, size):\n",
    "    \n",
    "    \n",
    "    \n",
    "    \n",
    "    pass"
   ]
  },
  {
   "cell_type": "code",
   "execution_count": null,
   "metadata": {},
   "outputs": [],
   "source": [
    "#Teste parseamento candles"
   ]
  },
  {
   "cell_type": "markdown",
   "metadata": {},
   "source": [
    "## Indicators"
   ]
  },
  {
   "cell_type": "code",
   "execution_count": null,
   "metadata": {},
   "outputs": [],
   "source": [
    "# Apenas o cálculo da média móvel, dada uma massa de dados e um \"n_sample\"\n",
    "\n",
    "def simple_ma (data, n_samples):\n",
    "    \n",
    "    '''Simple moving average. From a pandas data series, returns the last value of rolling mean of the \n",
    "    last <n_samples> samples.\n",
    "    \n",
    "    '''\n",
    "    \n",
    "    rolling_mean = data.rolling(window=int(n_samples)).mean()\n",
    "    \n",
    "    last_sample_sma = rolling_mean[len(rolling_mean)-1]\n",
    "    \n",
    "    return last_sample_sma"
   ]
  },
  {
   "cell_type": "code",
   "execution_count": null,
   "metadata": {},
   "outputs": [],
   "source": [
    "#Teste indicadores"
   ]
  },
  {
   "cell_type": "markdown",
   "metadata": {},
   "source": [
    "## Strategies"
   ]
  },
  {
   "cell_type": "code",
   "execution_count": null,
   "metadata": {},
   "outputs": [],
   "source": [
    "#Apenas estratégia alpha (cruzamento das médias móveis) por hora\n",
    "\n",
    "#from modules import indicators\n",
    "\n",
    "def alpha(data, n_short, n_long):\n",
    "    \n",
    "    relative_size = 1 #No futuro deve indicar o tamanho relativo da posição para o ativo em questão\n",
    "    \n",
    "    short_sma = simple_ma(data, n_short)\n",
    "    \n",
    "    long_sma = simple_ma(data, n_long)\n",
    "    \n",
    "    if (short_sma > long_sma): \n",
    "        \n",
    "        side = 'asset'\n",
    "    \n",
    "    else:\n",
    "        \n",
    "        side = 'quote'\n",
    "    \n",
    "    return short_sma, long_sma, side, relative_size"
   ]
  },
  {
   "cell_type": "code",
   "execution_count": null,
   "metadata": {},
   "outputs": [],
   "source": [
    "#Teste estratégias\n",
    "\n",
    "pair = 'BTCUSDT'\n",
    "\n",
    "data = data_dict[pair]['close']\n",
    "\n",
    "alpha(data, 3, 100)\n",
    "\n",
    "#print(result)"
   ]
  },
  {
   "cell_type": "markdown",
   "metadata": {},
   "source": [
    "# BinanceTrader"
   ]
  },
  {
   "cell_type": "markdown",
   "metadata": {},
   "source": [
    "## Algoritmo"
   ]
  },
  {
   "cell_type": "markdown",
   "metadata": {},
   "source": [
    "### Entrada\n",
    "\n",
    "#### Backtest\n",
    "\n",
    "> 1 - Recebe a definição da estratégia e do setup, carregando os parâmetros do setup da tabela da estratégia **(esta tabela DEVE existir)**  \n",
    "> 2 - Busca a tabela de log operacional  \n",
    "    >> A - Se não houver, a cria  \n",
    "    >> B - Se existir, carregar dados da última linha  \n",
    "\n",
    "> 3 - Lê as tabelas de dados:  \n",
    "    >> A - Inteiras, caso acima seja A  \n",
    "    >> B - Parciais, **suficientemente longas (obs: Será preciso uma função para determinar este comprimento mínimo, a partir dos parâmetros dos indicadores, bem como do candle_interval utilizados) tomando como referência à última amostra trazida, caso acima seja B**  \n",
    "\n",
    "> 4 - Cria o dicionário {'par': 'market_dataframe'} **(deve \"normalizar os dados para que todos os pares iniciem do mesmo 'open_time', caso a cadeia *A* acima se realize)**  \n",
    "> 5 - Itera a estratégia, correndo do primeiro open_time ao último, para todos os pares do dicionário:  \n",
    "    >> 5.1 - Confere os critérios de stop para os pares comprados  \n",
    "    >> 5.2 - Aplica a estratégia propriamente dita, a fim de verificar a posição esperada  \n",
    "    >> 5.3 - Compara a posição esperada com a posição corrente  \n",
    "    >> 5.4 - Realiza compras ou vendas, em caso de divergência das posições (esperada e corrente)\n",
    "    \n",
    "\n",
    "### Real time test ou trade\n",
    "\n",
    "> 1 - Recebe a definição da estratégia e localiza seus parâmetros na tabela apropriada  \n",
    "> 2 - Lê as tabelas de dados Parciais e suficientemente longas para o caso de trade real **(obs: Será preciso uma função para determinar este comprimento mínimo, a partir dos parâmetros dos indicadores, bem como do candle_interval utilizados)**"
   ]
  },
  {
   "cell_type": "markdown",
   "metadata": {},
   "source": [
    "## Levantamento de parâmetros"
   ]
  },
  {
   "cell_type": "code",
   "execution_count": null,
   "metadata": {},
   "outputs": [],
   "source": [
    "#PROVISÓRIOS\n",
    "#Migrar, assim que possível para banco de dados\n",
    "\n",
    "#candle_interval = '1m'\n",
    "strategy = 'alpha'\n",
    "setup = \"setup_1\""
   ]
  },
  {
   "cell_type": "code",
   "execution_count": null,
   "metadata": {},
   "outputs": [],
   "source": [
    "#Buscando parâmetros\n",
    "\n",
    "table_name = 'strategy_' + strategy\n",
    "\n",
    "sql_query = \"SELECT * FROM \" + table_name + \" WHERE name = '\" + setup + \"';\"\n",
    "\n",
    "setups = pd.read_sql(sql_query, engine)\n",
    "\n",
    "setup_parameters = setups.loc[setups.name == setup]\n",
    "\n",
    "#candle_interval = setup_parameters['candle_interval'][0]\n",
    "#price_source = \n",
    "#setup_parameters['stop_criteria'][0]['first_trigger']['percent']"
   ]
  },
  {
   "cell_type": "code",
   "execution_count": null,
   "metadata": {},
   "outputs": [],
   "source": [
    "setup_parameters"
   ]
  },
  {
   "cell_type": "code",
   "execution_count": null,
   "metadata": {},
   "outputs": [],
   "source": [
    "year = int(time_utc_now()['currentDateTime'].split('T')[0].split('-')[0])"
   ]
  },
  {
   "cell_type": "code",
   "execution_count": null,
   "metadata": {},
   "outputs": [],
   "source": [
    "n_samples_dic = {'m': 1, 'h': 60, 'd': 1440, 'w': 10080, 'M': 302400}\n",
    "\n",
    "size = int(setup_parameters.loc[0]['candle_interval'][:1])\n",
    "print(size)\n",
    "\n",
    "scale = str(setup_parameters.loc[0]['candle_interval'][1:])\n",
    "print(scale)\n",
    "\n",
    "n_samples = n_samples_dic[scale]\n",
    "print(n_samples)\n",
    "\n",
    "ps = setup_parameters.loc[0]['price_source']\n",
    "print(ps)\n",
    "\n",
    "sma = setup_parameters.loc[0]['indicators_set']['short_ma']\n",
    "print(sma)\n",
    "\n",
    "lma = setup_parameters.loc[0]['indicators_set']['long_ma']\n",
    "print(lma)\n",
    "\n",
    "stp = setup_parameters.loc[0]['stop_criteria']\n",
    "print(stp['first_trigger'])"
   ]
  },
  {
   "cell_type": "code",
   "execution_count": null,
   "metadata": {},
   "outputs": [],
   "source": [
    "def stop_loss(stp):\n",
    "    "
   ]
  },
  {
   "cell_type": "code",
   "execution_count": null,
   "metadata": {},
   "outputs": [],
   "source": [
    "i = 345665\n",
    "\n",
    "data = data_in.loc[i]\n",
    "\n",
    "print('o = ',data['open'])\n",
    "print('h = ',data['high'])\n",
    "print('l = ',data['low'])\n",
    "print('c = ',data['close'])\n",
    "print('media = ',(data['open'] + data['high'] + data['low'] + data['close'])/4)"
   ]
  },
  {
   "cell_type": "code",
   "execution_count": null,
   "metadata": {},
   "outputs": [],
   "source": [
    "def price(data, price_source):\n",
    "    \n",
    "    if (price_source == 'o'):\n",
    "        price = data['open']\n",
    "        \n",
    "    elif (price_source == 'h'):\n",
    "        price = data['high']\n",
    "\n",
    "    elif (price_source == 'l'):\n",
    "        price = data['low']\n",
    "\n",
    "    elif (price_source == 'c'):\n",
    "        price = data['close']\n",
    "        \n",
    "    elif (price_source == 'ohlc4'):\n",
    "        price = (data['open'] + data['high'] + data['low'] + data['close'])/4\n",
    "    \n",
    "    else:\n",
    "        price = (data['open'] + data['high'] + data['low'] + data['close'])/4\n",
    "    \n",
    "    return price        "
   ]
  },
  {
   "cell_type": "code",
   "execution_count": null,
   "metadata": {},
   "outputs": [],
   "source": [
    "price(data_in.loc[i], 'ohlc4')"
   ]
  },
  {
   "cell_type": "code",
   "execution_count": null,
   "metadata": {},
   "outputs": [],
   "source": []
  },
  {
   "cell_type": "code",
   "execution_count": null,
   "metadata": {},
   "outputs": [],
   "source": []
  },
  {
   "cell_type": "code",
   "execution_count": null,
   "metadata": {},
   "outputs": [],
   "source": []
  },
  {
   "cell_type": "code",
   "execution_count": null,
   "metadata": {},
   "outputs": [],
   "source": []
  },
  {
   "cell_type": "markdown",
   "metadata": {},
   "source": [
    "## Leitura Dados de Mercado"
   ]
  },
  {
   "cell_type": "code",
   "execution_count": null,
   "metadata": {},
   "outputs": [],
   "source": [
    "#Leitura dos dados de mercado\n",
    "    # - Tabelas inteiras para backetest ou\n",
    "    # - Parte das tabelas, suficientemente longa para cálculo dos indicadores (ciclos)\n",
    "\n",
    "    \n",
    "def get_klines_from_db(pairs_list, from_date_time):\n",
    "    pass\n",
    "\n",
    "table_name = 'binance_pairs'\n",
    "\n",
    "sql_query = 'SELECT * FROM ' + table_name\n",
    "\n",
    "pairs = pd.read_sql(sql_query, engine)\n",
    "\n",
    "data_dict = {}\n",
    "\n",
    "for i in range(len(pairs)):\n",
    "        \n",
    "    if ((pairs.iloc[i]['get_data'] == 'ON') and (pairs.iloc[i]['status'] == 'full')):\n",
    "        \n",
    "        #(por hora,os candles serão \"artificialmente gerados a partir do candle de 1m\")\n",
    "        table_name = 'binance_klines_' + str(pairs.iloc[i]['name']) + '_1m' #+ candle_interval \n",
    "        \n",
    "        sql_query = 'SELECT * FROM ' + table_name\n",
    "\n",
    "        #Dicionário {'par': 'candles_dataframe'}\n",
    "        data_dict[ pairs.iloc[i]['name'] ] = pd.read_sql(sql_query, engine)"
   ]
  },
  {
   "cell_type": "code",
   "execution_count": null,
   "metadata": {},
   "outputs": [],
   "source": [
    "#Teste: Localizando um dado pelo open_time\n",
    "\n",
    "dados = data_dict['BTCUSDT']\n",
    "\n",
    "open_time = '2018-07-02 20:05:00'\n",
    "\n",
    "dados.loc[dados.open_time == open_time]\n",
    "\n",
    "#float(dados['close'].loc[dados.open_time == open_time])"
   ]
  },
  {
   "cell_type": "code",
   "execution_count": 4,
   "metadata": {},
   "outputs": [],
   "source": [
    "data_dict = {}\n",
    "\n",
    "table_name = 'binance_klines_btcusdt_1m'\n",
    "\n",
    "sql_query = 'SELECT * FROM ' + table_name\n",
    "\n",
    "#Dicionário {'par': 'candles_dataframe'}\n",
    "data_dict['BTCUSDT'] = pd.read_sql(sql_query, engine)"
   ]
  },
  {
   "cell_type": "code",
   "execution_count": 6,
   "metadata": {},
   "outputs": [],
   "source": [
    "data_dict['BTCUSDT'].to_csv('btcusdt_1m.csv')"
   ]
  },
  {
   "cell_type": "code",
   "execution_count": null,
   "metadata": {},
   "outputs": [],
   "source": []
  },
  {
   "cell_type": "code",
   "execution_count": null,
   "metadata": {},
   "outputs": [],
   "source": [
    "data_in.loc[0:119]"
   ]
  },
  {
   "cell_type": "code",
   "execution_count": 5,
   "metadata": {},
   "outputs": [
    {
     "data": {
      "text/plain": [
       "open_time                       2017-08-17 05:59:00\n",
       "open                                        4315.32\n",
       "high                                        4315.32\n",
       "low                                         4315.32\n",
       "close                                       4315.32\n",
       "volume                                            0\n",
       "quote_asset_volume                                0\n",
       "number_of_trades                                  0\n",
       "taker_buy_base_asset_volume                       0\n",
       "taker_buy_quote_asset_volume                      0\n",
       "Name: 119, dtype: object"
      ]
     },
     "execution_count": 5,
     "metadata": {},
     "output_type": "execute_result"
    }
   ],
   "source": [
    "data_dict['BTCUSDT'].loc[119]"
   ]
  },
  {
   "cell_type": "code",
   "execution_count": null,
   "metadata": {},
   "outputs": [],
   "source": [
    "type(data_dict['BTCUSDT'].loc[119])"
   ]
  },
  {
   "cell_type": "code",
   "execution_count": null,
   "metadata": {},
   "outputs": [],
   "source": []
  },
  {
   "cell_type": "code",
   "execution_count": null,
   "metadata": {},
   "outputs": [],
   "source": [
    "data_dict.keys()"
   ]
  },
  {
   "cell_type": "markdown",
   "metadata": {},
   "source": [
    "## Main"
   ]
  },
  {
   "cell_type": "code",
   "execution_count": null,
   "metadata": {},
   "outputs": [],
   "source": [
    "'''\n",
    "A cada ciclo (iniciando de uma posição sucifientemente longa para poder calcular o valor do indicador) avalia \n",
    "em que posição deve estar o ativo, etc (COMPLETAR DOCSTRING)\n",
    "  \n",
    "Caso não exista o log operacional, tanto a tabela, quanto a primeira linha (todos os pares na posição \n",
    "'quote') serão criadas\n",
    "\n",
    "Caso exista o log operacional, então essa estratégia, com este setup, já foi testada em um momento passado, sendo \n",
    "necessário apenas continuar o teste deste ponto até o moento presente; assim, deve-se calcular o 'from_date_time', \n",
    "levando em conta a últmima amostra obtida no log, bem como\n",
    "\n",
    "\n",
    "'''\n",
    "\n",
    "op_log_table_name = 'btt_' + strategy + '_' + setup + '_log_monitoring'\n",
    "\n",
    "#Retorna a última linha da tabela de logs, caso exista.\n",
    "oper_log = Log_handler(op_log_table_name).get(limit=1)\n",
    "\n",
    "#Cria o dataframe de log\n",
    "\n",
    "if (len(oper_log) == 0):\n",
    "    \n",
    "    #Busca as tabelas de dados inteiras, arrumando-as em um dicionário e deixando todas a partir do menor 'timestamp' \n",
    "    #inicial dentre as tabelas buscadas\n",
    "    mkt_data = get_klines_from_db(setup_parameters['work_pairs'][0])\n",
    "    \n",
    "    #Arma a primeira linha do log, com todos os pares na posição quote\n",
    "\n",
    "else:\n",
    "    \n",
    "    #date_time = #calcula a partir de que amostra deve buscar no banco, utilizando a linha de log retornada, \n",
    "                 #bem como os parâmetros da estratégia\n",
    "    \n",
    "    mkt_data = get_klines_from_db(setup_parameters['work_pairs'][0], from_date_time=date_time)\n",
    "\n",
    "#Ordem do loop:\n",
    "     #Externo: Avançar nas linhas (um open_time, de cada par, por vez)\n",
    "        #Interno: Varrer todos os pares do dicionário\n",
    "\n",
    "\n",
    "for i in range (len(mkt_data)):\n",
    "    \n",
    "    #Testa stop\n",
    "    \n",
    "    #Parse dos dados para o candle_interval de trabalho\n",
    "    \n",
    "    #Testa indicadores e posiciona\n",
    "    \n",
    "    #Verifica se há difenrença entre posição corrente e posição indicada\n",
    "    \n",
    "    #\n",
    "\n",
    "\n",
    "#Procura a tabela de logs, se não existir, as cria"
   ]
  },
  {
   "cell_type": "code",
   "execution_count": null,
   "metadata": {},
   "outputs": [],
   "source": [
    "#Teste main"
   ]
  },
  {
   "cell_type": "code",
   "execution_count": null,
   "metadata": {},
   "outputs": [],
   "source": [
    "class Log_handler():\n",
    "    \n",
    "    def __init__(self, strategy, setup):\n",
    "        \n",
    "        self.strategy = strategy\n",
    "        self.setup = setup\n",
    "        \n",
    "        \n",
    "\n",
    "    def get(self, **kwargs):\n",
    "        \n",
    "        limit = kwargs.get('limit')\n",
    "    \n",
    "    \n",
    "    \n",
    "    \n",
    "    \n",
    "    \n",
    "    def read_table(table_name, **kwargs):\n",
    "    \n",
    "    \"\"\"Busca no banco a tabela [table_name], retornando uma lista, tal que cada elemento representa\n",
    "    uma linha (registro) da tabela, ou uma lista vazia, caso a tabela não seja encontrada. Pode retornar\n",
    "    a tabela inteira, ou parte dos valores se forem informados, corretamente, os argumentos opcionais\n",
    "    **kwargs.\n",
    "    \n",
    "    \n",
    "    Keyword arguments:\n",
    "    =================\n",
    "    \n",
    "    table_name  -- Nome da tabela a ser buscada\n",
    "    \n",
    "    **kwargs:\n",
    "    =========\n",
    "    \n",
    "    mute -- Suprime o log se 'yes'\n",
    "    \n",
    "    field_key -- Chave (nome da coluna) do campo tomado como referência de ordenamento\n",
    "    \n",
    "    sort_type      -- Modo como os registros são buscados:\n",
    "        \n",
    "    *sort_type options*\n",
    "     -----------------\n",
    "        - DESC ==> Do maior para o menor\n",
    "        - ASC  ==> Do menor para o maior\n",
    "        \n",
    "    limit     -- Número de registros que devem ser retornados\n",
    "    \"\"\"\n",
    "    \n",
    "    field_key = kwargs.get('field_key')"
   ]
  },
  {
   "cell_type": "code",
   "execution_count": null,
   "metadata": {},
   "outputs": [],
   "source": []
  },
  {
   "cell_type": "code",
   "execution_count": null,
   "metadata": {},
   "outputs": [],
   "source": []
  },
  {
   "cell_type": "code",
   "execution_count": null,
   "metadata": {},
   "outputs": [],
   "source": [
    "#Teste estratégia alpha_1\n",
    "from modules import indicators"
   ]
  },
  {
   "cell_type": "code",
   "execution_count": null,
   "metadata": {},
   "outputs": [],
   "source": [
    "getattr(indicators, 'f1')()"
   ]
  },
  {
   "cell_type": "code",
   "execution_count": null,
   "metadata": {},
   "outputs": [],
   "source": []
  },
  {
   "cell_type": "code",
   "execution_count": null,
   "metadata": {},
   "outputs": [],
   "source": [
    "pair = 'LTCUSDT'\n",
    "\n",
    "data = data_dict[pair]['high']\n",
    "\n",
    "teste = data.rolling(window=20).mean()\n",
    "\n",
    "print(teste)"
   ]
  },
  {
   "cell_type": "code",
   "execution_count": null,
   "metadata": {},
   "outputs": [],
   "source": [
    "from datetime import datetime"
   ]
  },
  {
   "cell_type": "code",
   "execution_count": null,
   "metadata": {},
   "outputs": [],
   "source": [
    "datetime.utcnow()"
   ]
  },
  {
   "cell_type": "code",
   "execution_count": null,
   "metadata": {},
   "outputs": [],
   "source": [
    "import requests\n",
    "\n",
    "url = 'http://worldclockapi.com/api/json/utc/now'\n",
    "\n",
    "time_utc_now = requests.get(url).json"
   ]
  },
  {
   "cell_type": "code",
   "execution_count": null,
   "metadata": {},
   "outputs": [],
   "source": [
    "time_utc_now()['currentDateTime'].split('T')[1]"
   ]
  },
  {
   "cell_type": "code",
   "execution_count": null,
   "metadata": {},
   "outputs": [],
   "source": [
    "import requests\n",
    "\n",
    "url = 'http://worldclockapi.com/api/json/utc/now'\n",
    "\n",
    "time_utc_now = requests.get(url).json\n",
    "\n",
    "year = int(time_utc_now()['currentDateTime'].split('T')[0].split('-')[0])\n",
    "month = int(time_utc_now()['currentDateTime'].split('T')[0].split('-')[1])\n",
    "day = int(time_utc_now()['currentDateTime'].split('T')[0].split('-')[2])\n",
    "\n",
    "hour = int(time_utc_now()['currentDateTime'].split('T')[1].split(':')[0])\n",
    "minute = int(time_utc_now()['currentDateTime'].split('T')[1].split(':')[1].split('Z')[0])\n",
    "\n",
    "print(year)\n",
    "print(month)\n",
    "print(day)\n",
    "print(hour)\n",
    "print(minute)\n",
    "\n",
    "date_time_target = datetime(year, month, day, hour, minute)\n",
    "\n",
    "print(date_time_target)"
   ]
  },
  {
   "cell_type": "code",
   "execution_count": null,
   "metadata": {},
   "outputs": [],
   "source": [
    "from datetime import datetime\n",
    "import requests    \n",
    "    \n",
    "def utc_time_func():\n",
    "\n",
    "    try:\n",
    "    \n",
    "        url = 'http://worldclockapi.com/api/json/utc/now'\n",
    "\n",
    "        time_utc_now = requests.get(url).json\n",
    "\n",
    "        year = int(time_utc_now()['currentDateTime'].split('T')[0].split('-')[0])\n",
    "        month = int(time_utc_now()['currentDateTime'].split('T')[0].split('-')[1])\n",
    "        day = int(time_utc_now()['currentDateTime'].split('T')[0].split('-')[2])\n",
    "\n",
    "        hour = int(time_utc_now()['currentDateTime'].split('T')[1].split(':')[0])\n",
    "        minute = int(time_utc_now()['currentDateTime'].split('T')[1].split(':')[1].split('Z')[0])\n",
    "    \n",
    "        utc_now = datetime(year, month, day, hour, minute)\n",
    "    \n",
    "    except (Exception) as error: #Tratar exceção (provavelmente enviar para telegram)\n",
    "        \n",
    "        utc_now = datetime.utcnow()\n",
    "\n",
    "    return utc_now"
   ]
  },
  {
   "cell_type": "code",
   "execution_count": null,
   "metadata": {},
   "outputs": [],
   "source": [
    "utc_time_func()"
   ]
  },
  {
   "cell_type": "code",
   "execution_count": null,
   "metadata": {},
   "outputs": [],
   "source": [
    "datetime.utcnow()"
   ]
  },
  {
   "cell_type": "code",
   "execution_count": null,
   "metadata": {},
   "outputs": [],
   "source": []
  },
  {
   "cell_type": "code",
   "execution_count": null,
   "metadata": {},
   "outputs": [],
   "source": [
    "binance_time = datetime.fromtimestamp(int((requests.get('https://api.binance.com/api/v1/time').json()['serverTime'])/1000))\n",
    "\n",
    "utc_time = datetime.utcnow()\n",
    "\n",
    "delta_time = utc_time - binance_time\n",
    "\n",
    "delta_hour = round(delta_time.total_seconds()/3600)\n",
    "\n",
    "delta = delta_hour*3600\n",
    "\n",
    "print(delta)"
   ]
  },
  {
   "cell_type": "code",
   "execution_count": null,
   "metadata": {},
   "outputs": [],
   "source": [
    "type(datetime.utcnow())"
   ]
  },
  {
   "cell_type": "code",
   "execution_count": null,
   "metadata": {},
   "outputs": [],
   "source": [
    "binance_time = datetime.fromtimestamp(int((requests.get('https://api.binance.com/api/v1/time').json()['serverTime'])/1000))\n",
    "\n",
    "utc_timew = utc_time()\n",
    "\n",
    "delta_time = utc_timew - binance_time\n",
    "\n",
    "delta_hour = round(delta_time.total_seconds()/3600)\n",
    "\n",
    "delta = delta_hour*3600\n",
    "\n",
    "print(delta)"
   ]
  },
  {
   "cell_type": "code",
   "execution_count": null,
   "metadata": {},
   "outputs": [],
   "source": [
    "utc_timew = utc_time()\n",
    "\n"
   ]
  },
  {
   "cell_type": "code",
   "execution_count": null,
   "metadata": {},
   "outputs": [],
   "source": []
  },
  {
   "cell_type": "code",
   "execution_count": null,
   "metadata": {},
   "outputs": [],
   "source": []
  },
  {
   "cell_type": "code",
   "execution_count": null,
   "metadata": {},
   "outputs": [],
   "source": []
  },
  {
   "cell_type": "code",
   "execution_count": null,
   "metadata": {},
   "outputs": [],
   "source": []
  },
  {
   "cell_type": "code",
   "execution_count": null,
   "metadata": {},
   "outputs": [],
   "source": []
  },
  {
   "cell_type": "code",
   "execution_count": null,
   "metadata": {},
   "outputs": [],
   "source": []
  },
  {
   "cell_type": "code",
   "execution_count": null,
   "metadata": {},
   "outputs": [],
   "source": [
    "datetime_object = datetime.strptime('Jun 1 2005  13:33PM', '%b %d %Y %I:%M%p')\n",
    "print(datetime_object)"
   ]
  },
  {
   "cell_type": "code",
   "execution_count": null,
   "metadata": {},
   "outputs": [],
   "source": [
    "datetime."
   ]
  },
  {
   "cell_type": "code",
   "execution_count": null,
   "metadata": {},
   "outputs": [],
   "source": []
  },
  {
   "cell_type": "code",
   "execution_count": null,
   "metadata": {},
   "outputs": [],
   "source": []
  },
  {
   "cell_type": "code",
   "execution_count": null,
   "metadata": {},
   "outputs": [],
   "source": [
    "datetime.utcnow()"
   ]
  },
  {
   "cell_type": "code",
   "execution_count": null,
   "metadata": {},
   "outputs": [],
   "source": [
    "print(datetime(2019, 7, 17, 21, 48))#, 55, 300384)"
   ]
  },
  {
   "cell_type": "code",
   "execution_count": null,
   "metadata": {},
   "outputs": [],
   "source": [
    "type(time_utc_now()['currentDateTime'])"
   ]
  },
  {
   "cell_type": "code",
   "execution_count": null,
   "metadata": {},
   "outputs": [],
   "source": []
  },
  {
   "cell_type": "code",
   "execution_count": null,
   "metadata": {},
   "outputs": [],
   "source": []
  },
  {
   "cell_type": "code",
   "execution_count": null,
   "metadata": {},
   "outputs": [],
   "source": []
  },
  {
   "cell_type": "code",
   "execution_count": null,
   "metadata": {},
   "outputs": [],
   "source": []
  },
  {
   "cell_type": "code",
   "execution_count": null,
   "metadata": {},
   "outputs": [],
   "source": []
  },
  {
   "cell_type": "code",
   "execution_count": null,
   "metadata": {},
   "outputs": [],
   "source": []
  },
  {
   "cell_type": "code",
   "execution_count": null,
   "metadata": {},
   "outputs": [],
   "source": []
  },
  {
   "cell_type": "code",
   "execution_count": null,
   "metadata": {},
   "outputs": [],
   "source": []
  }
 ],
 "metadata": {
  "kernelspec": {
   "display_name": "venv",
   "language": "python",
   "name": "venv"
  },
  "language_info": {
   "codemirror_mode": {
    "name": "ipython",
    "version": 3
   },
   "file_extension": ".py",
   "mimetype": "text/x-python",
   "name": "python",
   "nbconvert_exporter": "python",
   "pygments_lexer": "ipython3",
   "version": "3.7.3"
  }
 },
 "nbformat": 4,
 "nbformat_minor": 2
}
